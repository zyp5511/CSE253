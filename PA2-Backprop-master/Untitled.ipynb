{
 "cells": [
  {
   "cell_type": "code",
   "execution_count": 4,
   "metadata": {},
   "outputs": [],
   "source": [
    "\n",
    "import numpy as np\n",
    "import pickle\n",
    "\n",
    "training_data = pickle.load(open('data/MNIST_train.pkl', 'rb'), encoding='latin1')"
   ]
  },
  {
   "cell_type": "code",
   "execution_count": 5,
   "metadata": {},
   "outputs": [
    {
     "data": {
      "text/plain": [
       "(50000, 785)"
      ]
     },
     "execution_count": 5,
     "metadata": {},
     "output_type": "execute_result"
    }
   ],
   "source": [
    "training_data.shape"
   ]
  },
  {
   "cell_type": "code",
   "execution_count": 23,
   "metadata": {},
   "outputs": [],
   "source": [
    "def oneHot(Y_oh, max_val):\n",
    "  \"\"\" Computes onehot.\n",
    "  Input: Y_oh: list of number\n",
    "        max_val: The max one-hot size\n",
    "  Returns: 2D list correspind to the each label's one hot representation\n",
    "  \"\"\"\n",
    "  result_oh = []\n",
    "  for i in range(len(Y_oh)):\n",
    "    onehot = [0] * (int(max_val)+1)\n",
    "    onehot[int(Y_oh[i])] = 1\n",
    "    result_oh.append(onehot)\n",
    "  return np.array(result_oh)\n",
    "\n",
    "def load_data(fname):\n",
    "  \"\"\"\n",
    "  Write code to read the data and return it as 2 numpy arrays.\n",
    "  Make sure to convert labels to one hot encoded format.\n",
    "  fname : folder name\n",
    "  \"\"\"\n",
    "  training_data = pickle.load(open(fname, 'rb'), encoding='latin1')\n",
    "  images = training_data[:,:783]\n",
    "  print(training_data[:,784].shape)\n",
    "  print(training_data[1,784])\n",
    "  labels = oneHot(training_data[:,784],9)\n",
    "  print(\"Total number of images:\", len(images), \"and labels:\", len(labels))\n",
    "  labels = np.array(labels)\n",
    "\n",
    "  return images, labels\n"
   ]
  },
  {
   "cell_type": "code",
   "execution_count": 24,
   "metadata": {},
   "outputs": [
    {
     "name": "stdout",
     "output_type": "stream",
     "text": [
      "(50000,)\n",
      "5.0\n",
      "Total number of images: 50000 and labels: 50000\n"
     ]
    },
    {
     "data": {
      "text/plain": [
       "(array([[-1., -1., -1., ..., -1., -1., -1.],\n",
       "        [-1., -1., -1., ..., -1., -1., -1.],\n",
       "        [-1., -1., -1., ..., -1., -1., -1.],\n",
       "        ...,\n",
       "        [-1., -1., -1., ..., -1., -1., -1.],\n",
       "        [-1., -1., -1., ..., -1., -1., -1.],\n",
       "        [-1., -1., -1., ..., -1., -1., -1.]]), array([[0, 1, 0, ..., 0, 0, 0],\n",
       "        [0, 0, 0, ..., 0, 0, 0],\n",
       "        [0, 0, 0, ..., 0, 1, 0],\n",
       "        ...,\n",
       "        [0, 0, 0, ..., 0, 0, 0],\n",
       "        [0, 1, 0, ..., 0, 0, 0],\n",
       "        [0, 0, 0, ..., 0, 0, 0]]))"
      ]
     },
     "execution_count": 24,
     "metadata": {},
     "output_type": "execute_result"
    }
   ],
   "source": [
    "load_data('data/MNIST_train.pkl')"
   ]
  },
  {
   "cell_type": "code",
   "execution_count": null,
   "metadata": {},
   "outputs": [],
   "source": []
  }
 ],
 "metadata": {
  "kernelspec": {
   "display_name": "Python 3",
   "language": "python",
   "name": "python3"
  },
  "language_info": {
   "codemirror_mode": {
    "name": "ipython",
    "version": 3
   },
   "file_extension": ".py",
   "mimetype": "text/x-python",
   "name": "python",
   "nbconvert_exporter": "python",
   "pygments_lexer": "ipython3",
   "version": "3.7.1"
  }
 },
 "nbformat": 4,
 "nbformat_minor": 2
}
